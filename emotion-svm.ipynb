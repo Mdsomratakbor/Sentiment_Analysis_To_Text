{
 "cells": [
  {
   "cell_type": "code",
   "execution_count": 9,
   "metadata": {},
   "outputs": [
    {
     "name": "stdout",
     "output_type": "stream",
     "text": [
      "Accuracy: 0.2755\n"
     ]
    },
    {
     "name": "stderr",
     "output_type": "stream",
     "text": [
      "c:\\Users\\USER\\AppData\\Local\\Programs\\Python\\Python310\\lib\\site-packages\\sklearn\\metrics\\_classification.py:1344: UndefinedMetricWarning: Precision and F-score are ill-defined and being set to 0.0 in labels with no predicted samples. Use `zero_division` parameter to control this behavior.\n",
      "  _warn_prf(average, modifier, msg_start, len(result))\n",
      "c:\\Users\\USER\\AppData\\Local\\Programs\\Python\\Python310\\lib\\site-packages\\sklearn\\metrics\\_classification.py:1344: UndefinedMetricWarning: Precision and F-score are ill-defined and being set to 0.0 in labels with no predicted samples. Use `zero_division` parameter to control this behavior.\n",
      "  _warn_prf(average, modifier, msg_start, len(result))\n"
     ]
    },
    {
     "name": "stdout",
     "output_type": "stream",
     "text": [
      "Classification Report:\n",
      "               precision    recall  f1-score   support\n",
      "\n",
      "       anger       0.00      0.00      0.00        19\n",
      "     boredom       0.00      0.00      0.00        31\n",
      "       empty       0.00      0.00      0.00       162\n",
      "  enthusiasm       0.00      0.00      0.00       163\n",
      "         fun       0.00      0.00      0.00       338\n",
      "   happiness       0.28      0.02      0.03      1028\n",
      "        hate       0.00      0.00      0.00       268\n",
      "        love       0.54      0.08      0.14       762\n",
      "     neutral       0.28      0.52      0.36      1740\n",
      "      relief       0.00      0.00      0.00       352\n",
      "     sadness       0.22      0.01      0.02      1046\n",
      "    surprise       0.00      0.00      0.00       425\n",
      "       worry       0.27      0.72      0.39      1666\n",
      "\n",
      "    accuracy                           0.28      8000\n",
      "   macro avg       0.12      0.10      0.07      8000\n",
      "weighted avg       0.23      0.28      0.18      8000\n",
      "\n",
      "Confusion Matrix:\n",
      " [[   0    0    0    0    0    1    0    0    7    0    0    0   11]\n",
      " [   0    0    0    0    0    0    0    0   10    0    0    0   21]\n",
      " [   0    0    0    0    0    1    0    1   74    0    4    0   82]\n",
      " [   0    0    0    0    0    0    0    1   68    0    0    0   94]\n",
      " [   0    0    0    0    0    4    0    1  161    0    0    0  172]\n",
      " [   0    0    0    0    0   19    0   20  537    0    4    0  448]\n",
      " [   0    0    0    0    0    2    0    1   76    0    1    0  188]\n",
      " [   0    0    0    0    1   14    0   61  366    1    4    0  315]\n",
      " [   0    0    1    0    0   11    0   11  908    0    5    0  804]\n",
      " [   0    0    0    0    0    5    0    2  153    0    2    0  190]\n",
      " [   0    0    1    0    1    1    1    3  275    0    9    0  755]\n",
      " [   0    0    0    0    0    3    0    6  172    0    2    0  242]\n",
      " [   0    0    0    0    0    6    0    7  435    0   10    1 1207]]\n"
     ]
    },
    {
     "name": "stderr",
     "output_type": "stream",
     "text": [
      "c:\\Users\\USER\\AppData\\Local\\Programs\\Python\\Python310\\lib\\site-packages\\sklearn\\metrics\\_classification.py:1344: UndefinedMetricWarning: Precision and F-score are ill-defined and being set to 0.0 in labels with no predicted samples. Use `zero_division` parameter to control this behavior.\n",
      "  _warn_prf(average, modifier, msg_start, len(result))\n"
     ]
    }
   ],
   "source": [
    "import pandas as pd\n",
    "import numpy as np\n",
    "import seaborn as sns\n",
    "import neattext.functions as nfx\n",
    "from sklearn.svm import SVC\n",
    "from sklearn.pipeline import Pipeline\n",
    "from sklearn.feature_extraction.text import CountVectorizer\n",
    "from sklearn.model_selection import train_test_split\n",
    "from sklearn.preprocessing import StandardScaler\n",
    "from sklearn.metrics import accuracy_score, classification_report, confusion_matrix\n",
    "from nltk.corpus import stopwords\n",
    "from nltk.stem import WordNetLemmatizer\n",
    "import re\n",
    "import contractions\n",
    "\n",
    "\n",
    "# Load the dataset\n",
    "data = pd.read_csv('./data/tweet_emotions.csv')\n",
    "\n",
    "# Clean the text\n",
    "# User Handles\n",
    "data['Clean_Text'] =data['Text'].apply(nfx.remove_userhandles)\n",
    "\n",
    "# Stopwords\n",
    "data['Clean_Text'] =data['Clean_Text'].apply(nfx.remove_shortwords)\n",
    "\n",
    "# Remove Special Characters\n",
    "data['Clean_Text'] =data['Clean_Text'].apply(nfx.remove_special_characters)\n",
    "\n",
    "# Remove unnecessary characters and symbols\n",
    "data['Clean_Text'] = data['Text'].apply(lambda x: re.sub(r\"[^a-zA-Z\\s]\", \"\", x))\n",
    "# Remove Numbers\n",
    "data['Clean_Text'] = data['Clean_Text'].apply(nfx.remove_numbers)\n",
    "\n",
    "# Function to expand contractions in text\n",
    "def expand_contractions(text):\n",
    "    expanded_text = contractions.fix(text)\n",
    "    return expanded_text\n",
    "\n",
    "# Apply contraction expansion to 'Clean_Text' column\n",
    "data['Clean_Text'] = data['Clean_Text'].apply(expand_contractions)\n",
    "\n",
    "# Features and labels\n",
    "X_features = data['Clean_Text']\n",
    "y_labels = data['Emotion']\n",
    "\n",
    "# Split the data into training and test sets\n",
    "X_train, X_test, y_train, y_test = train_test_split(X_features, y_labels, test_size=0.2, random_state=42)\n",
    "\n",
    "# Create a pipeline with feature scaling and SVM classifier\n",
    "pipeline = Pipeline([\n",
    "    ('cv', CountVectorizer()),\n",
    "    ('scaler', StandardScaler(with_mean=False)),\n",
    "    ('svm', SVC())\n",
    "])\n",
    "\n",
    "# Train the model\n",
    "pipeline.fit(X_train, y_train)\n",
    "\n",
    "# Make predictions\n",
    "y_pred = pipeline.predict(X_test)\n",
    "\n",
    "# Calculate accuracy\n",
    "accuracy = accuracy_score(y_test, y_pred)\n",
    "print(\"Accuracy:\", accuracy)\n",
    "\n",
    "# Generate classification report\n",
    "report = classification_report(y_test, y_pred)\n",
    "print(\"Classification Report:\\n\", report)\n",
    "\n",
    "# Generate confusion matrix\n",
    "cm = confusion_matrix(y_test, y_pred)\n",
    "print(\"Confusion Matrix:\\n\", cm)\n"
   ]
  }
 ],
 "metadata": {
  "kernelspec": {
   "display_name": "Python 3",
   "language": "python",
   "name": "python3"
  },
  "language_info": {
   "codemirror_mode": {
    "name": "ipython",
    "version": 3
   },
   "file_extension": ".py",
   "mimetype": "text/x-python",
   "name": "python",
   "nbconvert_exporter": "python",
   "pygments_lexer": "ipython3",
   "version": "3.10.4"
  },
  "orig_nbformat": 4
 },
 "nbformat": 4,
 "nbformat_minor": 2
}
